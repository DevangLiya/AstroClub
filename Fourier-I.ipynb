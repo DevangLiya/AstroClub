{
 "cells": [
  {
   "cell_type": "markdown",
   "metadata": {},
   "source": [
    "## About this document\n",
    "\n",
    "This document contains notes and programs from the following talk held at The Astronomy Club at IISER-Mohali \n",
    "  \n",
    "Title   : Fourier Series and Transform from nature's perspective  \n",
    "Speakers: Nevil Shah and Vishal Gaur  \n",
    "Date    : 09/10/2019  \n",
    "Author  : Vishal Gaur"
   ]
  },
  {
   "cell_type": "markdown",
   "metadata": {},
   "source": [
    "## A few online referances to get the \"feel\" of the concept \n",
    "[An interesting way to interpret fourier transform in plain English](https://web.archive.org/web/20120418231513/http://www.altdevblogaday.com/2011/05/17/understanding-the-fourier-transform/)  \n",
    "[Fourier Series Animation (Square Wave)](https://www.youtube.com/watch?time_continue=5&v=k8FXF1KjzY0)  \n",
    "https://betterexplained.com/examples/fourier/?cycles=0,1  \n",
    "https://betterexplained.com/examples/fourier/?cycles=0,1,1"
   ]
  },
  {
   "cell_type": "markdown",
   "metadata": {},
   "source": [
    "## Programs"
   ]
  },
  {
   "cell_type": "code",
   "execution_count": null,
   "metadata": {},
   "outputs": [],
   "source": [
    "#Load libraries\n",
    "import matplotlib.pyplot as plt\n",
    "import numpy as np\n",
    "import math as m\n",
    "from scipy import fftpack #FFT module "
   ]
  },
  {
   "cell_type": "markdown",
   "metadata": {},
   "source": [
    "### Fourier transform and inverse fourier transform"
   ]
  },
  {
   "cell_type": "code",
   "execution_count": null,
   "metadata": {},
   "outputs": [],
   "source": [
    "L1 = np.arange(0.1,500.1,0.1)\t\t\t\t\t\t\t\t#Gives an array consisting no between 0.1 to 500 in steps of 0.1\n",
    "L2 = []\n",
    "L3 = []\n",
    "L23 = []\n",
    "W = 0.2\n",
    "W1 = 0.6\n",
    "noise = np.random.uniform(0.1,1,len(L1))\t\t\t\t\t#Generates an array of uniform random no b/w 0.1 and 1\n",
    "for i in range(len(L1)):\n",
    "    L2.append(m.sin(W*L1[i]))\t\t\t\t\t\t\t\t#Signal 1\n",
    "    L3.append(m.sin(W1*L1[i]))\t\t\t\t\t\t\t\t#Signal 2\n",
    "    L23.append(m.sin(W1*L1[i])+m.sin(W*L1[i]))           \n",
    "Y = []\n",
    "X = []\n",
    "fft_L23 = fftpack.fft(L23)\t\t\t\t\t\t\t\t\t#FFT of added signal\n",
    "for i in range(0,len(fft_L23)):\n",
    "    psd = abs(fft_L23[i])\n",
    "    Y.append(psd)\n",
    "for i in range(0,len(fft_L23)):\t\t\t\t\t\t\t\t#generating frequency axis\n",
    "    X.append(2*3.14*i/(len(fft_L23)*0.1))\t\t\t\t\t#0.1 here is time resolution\n",
    "fig, axs = plt.subplots(3)\n",
    "fig.suptitle('Signal, Carrier wave and the summed wave')\n",
    "axs[0].plot(L1,L2)\n",
    "axs[1].plot(L1,L3)\n",
    "axs[2].plot(L1,L23)\n",
    "plt.xlabel('Time')\n",
    "plt.ylabel('Intensity')\n",
    "\n",
    "plt.figure(figsize=(6, 5))\n",
    "plt.plot(X,Y)\n",
    "plt.xlabel('Frequency')\n",
    "plt.ylabel('Power')\n",
    "\n",
    "\n",
    "for i in range(len(fft_L23)):\n",
    "    if X[i] > 0.3:\t\t\t\t\t\t\t\t\t\t\t#making frequency corresponding to one signal 0 and then performing ifft will give you other signal\n",
    "        fft_L23[i] = 0\n",
    "    if X[i] < 0.1:\n",
    "        fft_L23[i] = 0\n",
    "S = fftpack.ifft(fft_L23)\t\t\t\t\t\t\t\t\t#inv Fourier transformation\n",
    "plt.figure(figsize=(6, 5))\n",
    "plt.plot(L1,S)\n",
    "plt.show()"
   ]
  },
  {
   "cell_type": "markdown",
   "metadata": {},
   "source": [
    "### Extracting the signal from a noisy channel"
   ]
  },
  {
   "cell_type": "code",
   "execution_count": null,
   "metadata": {},
   "outputs": [],
   "source": [
    "time_step = 0.02\n",
    "period = 5\n",
    "\n",
    "time_vec = np.arange(0, 20, time_step)\t\t\t\t\t#Gives an array consisting no between 0.1 to 500 in steps of 0.1\n",
    "sig = (np.sin(2 * np.pi / period * time_vec)) + 0.5 * np.random.randn(time_vec.size)      #signal + noise\n",
    "\n",
    "plt.figure(figsize=(6, 5))\n",
    "plt.plot(time_vec, sig, label='Original signal')\n",
    "plt.xlabel('Time [s]')\n",
    "plt.ylabel('Amplitude')\n",
    "\n",
    "sig_fft = fftpack.fft(sig)\t\t\t\t\t\t\t\t#FFT of signal + noise\n",
    "\n",
    "power = np.abs(sig_fft)\n",
    "\n",
    "sample_freq = fftpack.fftfreq(sig.size, d=time_step)\t#Generates frequency axis using fftpack\n",
    "plt.figure(figsize=(6, 5))\n",
    "plt.plot(sample_freq, power)\n",
    "plt.xlabel('Frequency [Hz]')\n",
    "plt.ylabel('plower')\n",
    "\n",
    "pos_mask = np.where(sample_freq > 0)\t\t\t\t\t#Generates an array containing index of frequencies having power greater than zero\n",
    "freqs = sample_freq[pos_mask]\t\t\t\t\t\t\t#Generates an array containing frequencies having power greater than zero\n",
    "peak_freq = freqs[power[pos_mask].argmax()]\t\t\t\t#finds the frequency corresponding to max power\n",
    "\n",
    "np.allclose(peak_freq, 1./period)\n",
    "\n",
    "axes = plt.axes([0.55, 0.3, 0.3, 0.5])\t\t\t\t\t\n",
    "plt.title('Peak frequency')\n",
    "plt.plot(freqs[:20], power[:20])\t\t\t\t\t\t#subplot to plot peak\n",
    "plt.setp(axes, yticks=[])\n",
    "\n",
    "\n",
    "high_freq_fft = sig_fft.copy()\n",
    "high_freq_fft[np.abs(sample_freq) > peak_freq] = 0\t\t#making hign frequency contributions(noise) to be zero \n",
    "filtered_sig = fftpack.ifft(high_freq_fft)\t\t\t\t#inv fft to get the signal only\n",
    "\n",
    "plt.figure(figsize=(6, 5))\n",
    "plt.plot(time_vec, sig, label='Original signal')\n",
    "plt.plot(time_vec, filtered_sig, linewidth=3, label='Filtered signal')\n",
    "plt.xlabel('Time [s]')\n",
    "plt.ylabel('Amplitude')\n",
    "\n",
    "plt.legend(loc='best')\n",
    "plt.show()"
   ]
  },
  {
   "cell_type": "markdown",
   "metadata": {},
   "source": [
    "### Fourier transform of a damped harmonic oscillator"
   ]
  },
  {
   "cell_type": "code",
   "execution_count": null,
   "metadata": {},
   "outputs": [],
   "source": [
    "x = np.arange(0.1,101.1,0.1)\n",
    "gamma = 0.05\n",
    "a = 2\n",
    "W = 0.8\n",
    "alpha = 0.005\n",
    "y = np.exp(-gamma*x) * a * np.cos(W*x - alpha)\t\t\t\t#Damped oscillation function\n",
    "plt.figure(figsize=(6, 5))\n",
    "plt.plot(x,y)\n",
    "plt.title(\"Damped Oscillations\")\n",
    "plt.xlabel(\"Time\")\n",
    "plt.ylabel(\"Amplitude\")\n",
    "Y = []\n",
    "X = []\n",
    "A = scipy.fftpack.fft(y)\t\t\t\t\t\t\t\t\t#taking inv fourier transformation(which is lorentzian)\n",
    "for i in range(0,len(A)):\n",
    "    psd = abs(A[i])\n",
    "    Y.append(psd)\n",
    "for i in range(0,len(A)):\n",
    "    X.append(2*3.14*i/(len(A)*0.1))\n",
    "plt.figure(figsize=(6, 5))\n",
    "plt.plot(X,Y)\n",
    "plt.title(\"Fourier transformation of damped oscillations (lorentzian function)\")\n",
    "plt.xlabel(\"Frequency\")\n",
    "plt.ylabel(\"Power\")\n",
    "plt.show()"
   ]
  },
  {
   "cell_type": "markdown",
   "metadata": {},
   "source": [
    "## Practice problems\n",
    "\n",
    "This section contains a few problems on which you can check your understanding.  \n",
    "You can submit your answers via email till 27/10/2019 in case you want them to be corrected."
   ]
  },
  {
   "cell_type": "markdown",
   "metadata": {},
   "source": [
    "### Problem 1\n",
    "Consider the data given in the Data folder in this repository. It contains a periodic signal with noise.  \n",
    "  \n",
    "Colomn 1 contain the time series and colomn 2 contain the counts received.  \n",
    "Time Resolution of the detector was .512sec.  \n",
    "Filename: fourier-I.txt\n",
    "\n",
    "### Task 0\n",
    "Do the Fourier transformation to get the Time Period of signal present. Also, plot its pulse profile (Pulse in 1 Time Period).  \n",
    "\n",
    "### Task 1\n",
    "Suppose we don’t know the concept of Fourier transformation, then try to extract the pulse profile with the reduced Noise (Using some other approach). If you find it difficult to get the Time period of the noisy signal without doing FFT, you can take the help of FFT you did in part-1.  \n",
    "Hint : Look for \"Folding of a signal\" to increase SNR."
   ]
  },
  {
   "cell_type": "code",
   "execution_count": 18,
   "metadata": {},
   "outputs": [],
   "source": [
    "# Your solution for task 0\n",
    "#Start by loading the data\n",
    "\n",
    "#Refer to the sample programs to find out how to take fourier transform\n",
    "\n",
    "#See if you can locate a peak corresponding to the frequency (do you see some extra peaks? What are they?)"
   ]
  },
  {
   "cell_type": "code",
   "execution_count": 19,
   "metadata": {},
   "outputs": [],
   "source": [
    "# Your solution for task 1\n",
    "#You will need a time period to attempt folding. You can try guessing the time period.\n",
    "#Use the time period from task 0 if you're tired"
   ]
  },
  {
   "cell_type": "markdown",
   "metadata": {},
   "source": [
    "### Problem 2\n",
    "We saw that the fourier transform of the damped harmonic oscillator is a Lorentzian. Explore the fourier transform of other functions that you know and see if you can come up with something interesting!  \n",
    "\n",
    "Eg.  \n",
    "Gaussian function, delta function, $e^x$, etc\n"
   ]
  },
  {
   "cell_type": "code",
   "execution_count": null,
   "metadata": {},
   "outputs": [],
   "source": [
    "#Your interesting discoveries"
   ]
  },
  {
   "cell_type": "markdown",
   "metadata": {},
   "source": [
    "# Happy Diwali!  \n",
    "# May the clear skies be with you!"
   ]
  }
 ],
 "metadata": {
  "kernelspec": {
   "display_name": "Python 3",
   "language": "python",
   "name": "python3"
  },
  "language_info": {
   "codemirror_mode": {
    "name": "ipython",
    "version": 3
   },
   "file_extension": ".py",
   "mimetype": "text/x-python",
   "name": "python",
   "nbconvert_exporter": "python",
   "pygments_lexer": "ipython3",
   "version": "3.6.8"
  }
 },
 "nbformat": 4,
 "nbformat_minor": 2
}
